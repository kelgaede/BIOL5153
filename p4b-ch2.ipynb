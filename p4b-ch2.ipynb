{
 "cells": [
  {
   "cell_type": "code",
   "execution_count": 16,
   "metadata": {},
   "outputs": [
    {
     "name": "stdout",
     "output_type": "stream",
     "text": [
      "ACTGATCGATTACGTATAGTATTTGCTATCATACATATATATCGATGCGTTCAT\n",
      "54\n",
      "16\n",
      "21\n",
      "length: 54\n",
      "A count: 16\n",
      "T count: 21\n",
      "AT content:0.6851851851851852\n"
     ]
    }
   ],
   "source": [
    "#store DNA sequence in the variables dna_seq\n",
    "dna_seq = \"ACTGATCGATTACGTATAGTATTTGCTATCATACATATATATCGATGCGTTCAT\"\n",
    "\n",
    "#print dna sequence\n",
    "print(dna_seq)\n",
    "\n",
    "#calculate the length of the sequence\n",
    "dna_seq_length=len(dna_seq)\n",
    "\n",
    "#print the length of the sequence\n",
    "print(dna_seq_length)\n",
    "\n",
    "#count the numbers of As and Ts and print\n",
    "totalA=dna_seq.count('A')\n",
    "print(totalA)\n",
    "totalT=dna_seq.count('T')\n",
    "print(totalT)\n",
    "\n",
    "#Book's way of doing it had to use str bc it was concatenating the count with a label so you went\n",
    "#from numbers to strings \n",
    "print(\"length: \" + str(dna_seq_length))\n",
    "print(\"A count: \" + str(totalA))\n",
    "print(\"T count: \" + str(totalT))\n",
    "\n",
    "#calculate AT content by A+T/dna_seq length and print it\n",
    "AT_content=(totalA+totalT)/dna_seq_length \n",
    "\n",
    "print(\"AT content:\" + str(AT_content))\n",
    "\n"
   ]
  },
  {
   "cell_type": "code",
   "execution_count": 23,
   "metadata": {},
   "outputs": [
    {
     "name": "stdout",
     "output_type": "stream",
     "text": [
      "HKJLHJKLHJJHKLJHJHLJHJJJLKJHJKHJHKHJHJHJHJKLHJLKLJJKHJ\n",
      "TGACTAGCTAATGCATATCATAAACGATAGTATGTATATATAGCTACGCAAGTA\n",
      "tCTGtTCGtTTtCGTtTtGTtTTTGCTtTCtTtCtTtTtTtTCGtTGCGTTCtT\n",
      "tCaGtaCGtaatCGatatGataaaGCataCtatCtatatataCGtaGCGaaCta\n",
      "tgaGtagGtaatgGatatGataaaGgatagtatgtatatatagGtaGgGaagta\n",
      "tgactagctaatgcatatcataaacgatagtatgtatatatagctacgcaagta\n",
      "TGACTAGCTAATGCATATCATAAACGATAGTATGTATATATAGCTACGCAAGTA\n"
     ]
    }
   ],
   "source": [
    "#complementing my DNA sequence\n",
    "replacement_1=dna_seq.replace('A','H')\n",
    "replacement_2=replacement_1.replace('T','J')\n",
    "replacement_3=replacement_2.replace('C','K')\n",
    "replacement_4=replacement_3.replace('G','L')\n",
    "print(replacement_4)\n",
    "\n",
    "replacement_5=replacement_4.replace('H','T')\n",
    "replacement_6=replacement_5.replace('J','A')\n",
    "replacement_7=replacement_6.replace('K','G')\n",
    "replacement_8=replacement_7.replace('L','C')\n",
    "print(replacement_8)\n",
    "\n",
    "\n",
    "#better way of doing it as explained in the book:\n",
    "my_dna = \"ACTGATCGATTACGTATAGTATTTGCTATCATACATATATATCGATGCGTTCAT\"\n",
    "replacement1 = my_dna.replace('A', 't')\n",
    "print(replacement1)\n",
    "replacement2 = replacement1.replace('T', 'a')\n",
    "print(replacement2)\n",
    "replacement3 = replacement2.replace('C', 'g')\n",
    "print(replacement3)\n",
    "replacement4 = replacement3.replace('G', 'c')\n",
    "print(replacement4)\n",
    "print(replacement4.upper())"
   ]
  },
  {
   "cell_type": "code",
   "execution_count": 35,
   "metadata": {},
   "outputs": [
    {
     "name": "stdout",
     "output_type": "stream",
     "text": [
      "length of fragment one=22\n",
      "length of fragment two=33\n",
      "22\n"
     ]
    }
   ],
   "source": [
    "#restriction fragment lengths\n",
    "\n",
    "dna_seq=\"ACTGATCGATTACGTATAGTAGAATTCTATCATACATATATATCGATGCGTTCAT\"\n",
    "#first use \"find\" to find where ECOR1 begins. Add \"1\" because the nucleotide count starts at zero not 1.\n",
    "id_fragment_1=dna_seq.find(\"GAATTC\") + 1\n",
    "fragment_2=len(dna_seq)-id_fragment_1\n",
    "\n",
    "\n",
    "#remember to print you are concatenating numbers to a string so you have to str to change numbers to strings\n",
    "print(\"length of fragment one=\" +str(id_fragment_1))\n",
    "print(\"length of fragment two=\"+ str(fragment_2))"
   ]
  },
  {
   "cell_type": "code",
   "execution_count": 45,
   "metadata": {},
   "outputs": [
    {
     "name": "stdout",
     "output_type": "stream",
     "text": [
      "ATCGATCGATCGATCGACTGACTAGTCATAGCTATGCATGTAGCTACTCGATCGATCGATCG\n",
      "ATCATCGATCGATATCGATGCATCGACTACTAT\n"
     ]
    }
   ],
   "source": [
    "#splicing out introns\n",
    "#part1: print only the coding sequence\n",
    "\n",
    "dna_seq2=\"ATCGATCGATCGATCGACTGACTAGTCATAGCTATGCATGTAGCTACTCGATCGATCGATCGATCGATCGATCGATCGATCGATCATGCTATCATCGATCGATATCGATGCATCGACTACTAT\"\n",
    "\n",
    "#split the sequence in three bits by using substring notation\n",
    "#remember python starts counting from ZERO not one!\n",
    "\n",
    "#identify first exon that runs from the start of the sequence to the sixty-third character.\n",
    "exon1=dna_seq2[0:62]\n",
    "\n",
    "#identify second exon that runs from the ninety- first character to the end of the sequence.\n",
    "#pick a random large number (larger than your sequence if you don't know the full length)\n",
    "exon2=dna_seq2[90:10000]\n",
    "\n",
    "#print the output\n",
    "\n",
    "print(exon1)\n",
    "print(exon2)\n",
    "\n"
   ]
  },
  {
   "cell_type": "code",
   "execution_count": 44,
   "metadata": {},
   "outputs": [
    {
     "name": "stdout",
     "output_type": "stream",
     "text": [
      "78.04878048780488\n"
     ]
    }
   ],
   "source": [
    "#splicing out introns\n",
    "#part2: Using the data from part one, write a program that will calculate what percentage of the DNA sequence is coding.\n",
    "\n",
    "dna_seq_length=len(dna_seq2)\n",
    "len_coding=len(exon1+exon2)\n",
    "per_coding=(len_coding/dna_seq_length)*100\n",
    "print(per_coding)\n",
    "\n",
    "#book got 0.7723577235772358 I got 78.04878048780488\n"
   ]
  },
  {
   "cell_type": "code",
   "execution_count": 48,
   "metadata": {},
   "outputs": [
    {
     "name": "stdout",
     "output_type": "stream",
     "text": [
      "ATCGATCGATCGATCGACTGACTAGTCATAGCTATGCATGTAGCTACTCGATCGATCGATCGatcgatcgatcgatcgatcgatcatgctATCATCGATCGATATCGATGCATCGACTACTAT\n"
     ]
    }
   ],
   "source": [
    "#splicing out introns \n",
    "#part3: Using the data from part one, write a program that will print out the original genomic DNA sequence with coding bases in uppercase and non-coding bases in lowercase.\n",
    "\n",
    "dna_seq3=\"ATCGATCGATCGATCGACTGACTAGTCATAGCTATGCATGTAGCTACTCGATCGATCGATCGATCGATCGATCGATCGATCGATCATGCTATCATCGATCGATATCGATGCATCGACTACTAT\"\n",
    "\n",
    "exon1=dna_seq3[0:62]\n",
    "intron=dna_seq3[62:90].lower()\n",
    "exon2=dna_seq3[90:10000]\n",
    "\n",
    "#question, why intron starts at 62? shouldnt it start at 63?\n",
    "alt_dna_seq=print(exon1 + intron + exon2)"
   ]
  },
  {
   "cell_type": "code",
   "execution_count": null,
   "metadata": {},
   "outputs": [],
   "source": []
  }
 ],
 "metadata": {
  "kernelspec": {
   "display_name": "Python 3",
   "language": "python",
   "name": "python3"
  },
  "language_info": {
   "codemirror_mode": {
    "name": "ipython",
    "version": 3
   },
   "file_extension": ".py",
   "mimetype": "text/x-python",
   "name": "python",
   "nbconvert_exporter": "python",
   "pygments_lexer": "ipython3",
   "version": "3.7.2"
  }
 },
 "nbformat": 4,
 "nbformat_minor": 2
}
