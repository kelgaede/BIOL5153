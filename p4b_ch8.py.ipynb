{
 "cells": [
  {
   "cell_type": "code",
   "execution_count": 4,
   "metadata": {},
   "outputs": [
    {
     "name": "stdout",
     "output_type": "stream",
     "text": [
      "one codon is ATG\n",
      "one codon is TTC\n",
      "one codon is GGT\n"
     ]
    }
   ],
   "source": [
    "dna = \"ATGTTCGGT\"\n",
    "\n",
    "#split the sequence into codons\n",
    "\n",
    "#use range function to generate the list of start positions\n",
    "#remember 0 is where it starts, 7 is where it ends -its exclusive so not 6 and 3 is the step\n",
    "dna = \"ATGTTCGGT\"\n",
    "for start in range(0,7,3):\n",
    "    codon = dna[start:start+3]  #To find the stop position for a given start position we just add 3\n",
    "    print(\"one codon is\" + ' ' + codon)\n",
    "    \n",
    "    \n"
   ]
  },
  {
   "cell_type": "code",
   "execution_count": 16,
   "metadata": {},
   "outputs": [
    {
     "name": "stdout",
     "output_type": "stream",
     "text": [
      "one codon is ATG\n",
      "the amino acid is M\n",
      "one codon is TTC\n",
      "the amino acid is F\n",
      "one codon is GGT\n",
      "the amino acid is G\n"
     ]
    }
   ],
   "source": [
    "#we cannot translate an incomplete codon, so we want the start position of the final codon to equal to the length of the DNA sequence minus two\n",
    "\n",
    "dna = \"ATGTTCGGT\"\n",
    "# calculate the start position for the final codon\n",
    "last_codon_start = len(dna)-2\n",
    "# process the dna sequence in three base chunks\n",
    "for start in range(0,last_codon_start,3):\n",
    "    codon = dna[start:start+3]\n",
    "    aa = gencode.get(codon)\n",
    "    print(\"one codon is \" + codon)\n",
    "    print(\"the amino acid is \" + aa)\n",
    "    #print(\"one codon is \" + codon)"
   ]
  },
  {
   "cell_type": "code",
   "execution_count": 15,
   "metadata": {},
   "outputs": [
    {
     "name": "stdout",
     "output_type": "stream",
     "text": [
      "H\n",
      "V\n"
     ]
    }
   ],
   "source": [
    "#Translating those codons\n",
    "\n",
    "#Storing this translation table seems like a perfect job for a dictionary\n",
    "#codons (keys) and amino acid residues (values) and we want to be able to look up the amino acid for a given codon\n",
    "#remember {} creates a dictionary 'key':'value'\n",
    "gencode = {\n",
    "'ATA':'I', 'ATC':'I', 'ATT':'I', 'ATG':'M',\n",
    "'ACA':'T', 'ACC':'T', 'ACG':'T', 'ACT':'T',\n",
    "'AAC':'N', 'AAT':'N', 'AAA':'K', 'AAG':'K',\n",
    "'AGC':'S', 'AGT':'S', 'AGA':'R', 'AGG':'R',\n",
    "'CTA':'L', 'CTC':'L', 'CTG':'L', 'CTT':'L',\n",
    "'CCA':'P', 'CCC':'P', 'CCG':'P', 'CCT':'P',\n",
    "'CAC':'H', 'CAT':'H', 'CAA':'Q', 'CAG':'Q',\n",
    "'CGA':'R', 'CGC':'R', 'CGG':'R', 'CGT':'R',\n",
    "'GTA':'V', 'GTC':'V', 'GTG':'V', 'GTT':'V',\n",
    "'GCA':'A', 'GCC':'A', 'GCG':'A', 'GCT':'A',\n",
    "'GAC':'D', 'GAT':'D', 'GAA':'E', 'GAG':'E',\n",
    "'GGA':'G', 'GGC':'G', 'GGG':'G', 'GGT':'G',\n",
    "'TCA':'S', 'TCC':'S', 'TCG':'S', 'TCT':'S',\n",
    "'TTC':'F', 'TTT':'F', 'TTA':'L', 'TTG':'L',\n",
    "'TAC':'Y', 'TAT':'Y', 'TAA':'_', 'TAG':'_',\n",
    "'TGC':'C', 'TGT':'C', 'TGA':'_', 'TGG':'W'}\n",
    "\n",
    "#We can look up the amino acid for a given codon using either\n",
    "print(gencode['CAT'])\n",
    "print(gencode.get('GTC'))\n",
    "\n",
    "#or we can add aa = gencode.get(codon)\n",
    "    #print(\"one codon is \" + codon)\n",
    "    #print(\"the amino acid is \" + aa)\n",
    "#to the for loop "
   ]
  },
  {
   "cell_type": "code",
   "execution_count": 22,
   "metadata": {},
   "outputs": [
    {
     "name": "stdout",
     "output_type": "stream",
     "text": [
      "protein sequence is M\n",
      "protein sequence is MF\n",
      "protein sequence is MFG\n"
     ]
    }
   ],
   "source": [
    "#The final step is to actually do something with the amino acid residues rather than just printing them\n",
    "dna = \"ATGTTCGGT\"\n",
    "last_codon_start = len(dna) - 2\n",
    "protein = \"\"\n",
    "for start in range(0,last_codon_start,3):\n",
    "    codon = dna[start:start+3]\n",
    "    aa = gencode.get(codon)\n",
    "    protein = protein + aa\n",
    "    print(\"protein sequence is \" + protein)"
   ]
  },
  {
   "cell_type": "code",
   "execution_count": 27,
   "metadata": {},
   "outputs": [
    {
     "name": "stdout",
     "output_type": "stream",
     "text": [
      "MFG\n",
      "IDRSLLIDQ\n",
      "TDRS_LTYR\n",
      "TIDRXVRSYS\n"
     ]
    }
   ],
   "source": [
    "#turn the code into a function\n",
    "#function will take one argument – the DNA sequence as a string – and will return a string containing the protein sequence1:\n",
    "\n",
    "def translate_dna(dna):\n",
    "    last_codon_start = len(dna) - 2\n",
    "    protein = \"\"\n",
    "    for start in range(0,last_codon_start,3):\n",
    "        codon = dna[start:start+3]\n",
    "        aa = gencode.get(codon.upper(), 'X')  #used uppper to turn the second sequence to upper case so you dont get an error, the X is to deal with the N base on seq 4 so you dont get an error\n",
    "        protein = protein + aa\n",
    "    return protein\n",
    "\n",
    "print(translate_dna(\"ATGTTCGGT\"))\n",
    "print(translate_dna(\"ATCGATCGATCGTTGCTTATCGATCAG\"))\n",
    "print(translate_dna(\"actgatcgtagctagctgacgtatcgtat\"))\n",
    "print(translate_dna(\"ACGATCGATCGTNACGTACGATCGTACTCG\"))"
   ]
  },
  {
   "cell_type": "code",
   "execution_count": null,
   "metadata": {},
   "outputs": [],
   "source": []
  }
 ],
 "metadata": {
  "kernelspec": {
   "display_name": "Python 3",
   "language": "python",
   "name": "python3"
  },
  "language_info": {
   "codemirror_mode": {
    "name": "ipython",
    "version": 3
   },
   "file_extension": ".py",
   "mimetype": "text/x-python",
   "name": "python",
   "nbconvert_exporter": "python",
   "pygments_lexer": "ipython3",
   "version": "3.7.2"
  }
 },
 "nbformat": 4,
 "nbformat_minor": 2
}
