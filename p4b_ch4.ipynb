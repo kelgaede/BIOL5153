{
 "cells": [
  {
   "cell_type": "code",
   "execution_count": 10,
   "metadata": {},
   "outputs": [
    {
     "name": "stdout",
     "output_type": "stream",
     "text": [
      "processed sequence with length 43\n",
      "processed sequence with length 38\n",
      "processed sequence with length 49\n",
      "processed sequence with length 34\n",
      "processed sequence with length 48\n"
     ]
    }
   ],
   "source": [
    "#processing dna in a file\n",
    "#Each sequence starts with the same 14 base pair fragment – a sequencing adapter that should have been removed. \n",
    "#Write a program that will \n",
    "#(a) trim this adapter and write the cleaned sequences to a new file and \n",
    "#(b) print the length of each sequence to the screen.\n",
    "\n",
    "file = open(\"input.txt\")\n",
    "output = open(\"trimmed.txt\", \"w\")\n",
    "for dna in file:\n",
    "    #remove the 14 bases at the begining of each sequence first you have to find out the lenght of each sequence\n",
    "    last_character_position = len(dna)\n",
    "    trimmed_dna=dna[14:last_character_position]\n",
    "    #print(trimmed_dna)\n",
    "    \n",
    "    #since the code is working right, now print from insted of the screen into a file, make sure the define output first before the loop\n",
    "    output.write(trimmed_dna)\n",
    "    \n",
    "    #print out the legth to the screen\n",
    "    print(\"processed sequence with length \" + str(len(trimmed_dna)))\n"
   ]
  },
  {
   "cell_type": "code",
   "execution_count": 17,
   "metadata": {},
   "outputs": [
    {
     "name": "stdout",
     "output_type": "stream",
     "text": [
      "['5', '58']\n",
      "start is 5, stop is 58\n",
      "['72', '133']\n",
      "start is 72, stop is 133\n",
      "['190', '276']\n",
      "start is 190, stop is 276\n",
      "['340', '398']\n",
      "start is 340, stop is 398\n"
     ]
    }
   ],
   "source": [
    "#Multiple exons from genomic DNA\n",
    "#The file genomic_dna.txt contains a section of genomic DNA, and the file exons.txt contains a list of start/stop positions of exons\n",
    "#Each exon is on a separate line and the start and stop positions are separated by a comma\n",
    "#extract the exon segments, concatenate them, and write them to a new file\n",
    "\n",
    "exon_locations = open(\"exons.txt\")\n",
    "for line in exon_locations:\n",
    "    line=line.strip('\\n')\n",
    "    #split up each line into a start and stop position using split\n",
    "    positions=line.split(',')\n",
    "    start = positions[0]\n",
    "    stop = positions[1]\n",
    "    print(positions)\n",
    "    print(\"start is \" + start + \", stop is \" + stop)"
   ]
  },
  {
   "cell_type": "code",
   "execution_count": 23,
   "metadata": {},
   "outputs": [
    {
     "name": "stdout",
     "output_type": "stream",
     "text": [
      "coding sequence is : CGTACCGTCGACGATGCTACGATCGTCGATCGTAGTCGATCATCGATCGATCG\n",
      "coding sequence is : CGTACCGTCGACGATGCTACGATCGTCGATCGTAGTCGATCATCGATCGATCGCGATCGATCGATATCGATCGATATCATCGATGCATCGATCATCGATCGATCGATCGATCGA\n",
      "coding sequence is : CGTACCGTCGACGATGCTACGATCGTCGATCGTAGTCGATCATCGATCGATCGCGATCGATCGATATCGATCGATATCATCGATGCATCGATCATCGATCGATCGATCGATCGACGATCGATCGATCGTAGCTAGCTAGCTAGATCGATCATCATCGTAGCTAGCTCGACTAGCTACGTACGATCGATGCATCGATCGTA\n",
      "coding sequence is : CGTACCGTCGACGATGCTACGATCGTCGATCGTAGTCGATCATCGATCGATCGCGATCGATCGATATCGATCGATATCATCGATGCATCGATCATCGATCGATCGATCGATCGACGATCGATCGATCGTAGCTAGCTAGCTAGATCGATCATCATCGTAGCTAGCTCGACTAGCTACGTACGATCGATGCATCGATCGTACGATCGATCGATCGATCGATCGATCGATCGATCGATCGATCGTAGCTAGCTACGATCG\n"
     ]
    }
   ],
   "source": [
    "#read the genomic sequence from the file all in one go using read, as we just want the entire contents\n",
    "#Then we'll use the exon coordinates to extract one exon each time round the loop, and print it to the screen\n",
    "genomic_dna = open(\"genomic_dna.txt\").read()\n",
    "exon_locations = open(\"exons.txt\")\n",
    "#before the loop starts we'll create a new variable called coding_sequence and assign it to an empty string. Then, each time round the loop, we'll add the current exon on to the end, and store the result back in the same variable. When the loop has finished, the variable will contain all the exons.\n",
    "coding_sequence=''\n",
    "for line in exon_locations:\n",
    "    positions = line.split(',')\n",
    "    #split deals with the characters as strings, since we are using them as number have to turn them into integers.\n",
    "    start = int(positions[0])\n",
    "    stop = int(positions[1])\n",
    "    exon = genomic_dna[start:stop]\n",
    "    coding_sequence=coding_sequence+exon\n",
    "    print(\"coding sequence is : \" + coding_sequence)\n",
    "    \n",
    "# write the coding sequence to an output file\n",
    "output = open(\"coding_sequence.txt\", \"w\")\n",
    "output.write(coding_sequence)\n",
    "output.close()"
   ]
  },
  {
   "cell_type": "code",
   "execution_count": null,
   "metadata": {},
   "outputs": [],
   "source": []
  },
  {
   "cell_type": "code",
   "execution_count": null,
   "metadata": {},
   "outputs": [],
   "source": []
  }
 ],
 "metadata": {
  "kernelspec": {
   "display_name": "Python 3",
   "language": "python",
   "name": "python3"
  },
  "language_info": {
   "codemirror_mode": {
    "name": "ipython",
    "version": 3
   },
   "file_extension": ".py",
   "mimetype": "text/x-python",
   "name": "python",
   "nbconvert_exporter": "python",
   "pygments_lexer": "ipython3",
   "version": "3.7.2"
  }
 },
 "nbformat": 4,
 "nbformat_minor": 2
}
