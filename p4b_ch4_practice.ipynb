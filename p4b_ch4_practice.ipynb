{
 "cells": [
  {
   "cell_type": "code",
   "execution_count": 12,
   "metadata": {},
   "outputs": [
    {
     "name": "stdout",
     "output_type": "stream",
     "text": [
      "Homo sapiens\n",
      "There are 3 apes\n",
      "Now there are 4 apes\n",
      "3 apes\n",
      "2 monkeys\n",
      "5 primates\n",
      "['Homo sapiens', 'Pan troglodytes', 'Gorilla gorilla', ['Papio ursinus', 'Macaca mulatta']]\n",
      "at the start : ['kingdom', 'phylum', 'class', 'order', 'family']\n",
      "after reversing : ['family', 'order', 'class', 'phylum', 'kingdom']\n",
      "after sorting : ['class', 'family', 'kingdom', 'order', 'phylum']\n"
     ]
    }
   ],
   "source": [
    "#to make a list put several strings or numbers1 inside square brackets, separated by commas\n",
    "apes = [\"Homo sapiens\", \"Pan troglodytes\", \"Gorilla gorilla\"]\n",
    "conserved_sites = [24, 56, 132]\n",
    "\n",
    "#To get a single element from the list, write the variable name followed by the index of the element you want in square brackets\n",
    "print(apes[0])\n",
    "first_site = conserved_sites[2]\n",
    "\n",
    "#If we know which element we want but we don't know the index – we can use the index method\n",
    "apes = [\"Homo sapiens\", \"Pan troglodytes\", \"Gorilla gorilla\"]\n",
    "chimp_index = apes.index(\"Pan troglodytes\")\n",
    "# chimp_index is now 1\n",
    "\n",
    "#If we give a negative number, Python starts counting from the end of the list rather than the beginning\n",
    "last_ape = apes[-1]\n",
    "\n",
    "#to get more than one element from a list we can give a start and stop position, separated by a colon, to specify a range of elements\n",
    "\n",
    "ranks = [\"kingdom\",\"phylum\", \"class\", \"order\", \"family\"]\n",
    "lower_ranks = ranks[2:5]\n",
    "# lower ranks are class, order and family\n",
    "\n",
    "#To add another element onto the end of an existing list, we can use the append method\n",
    "apes = [\"Homo sapiens\", \"Pan troglodytes\", \"Gorilla gorilla\"]\n",
    "apes.append(\"Pan paniscus\")\n",
    "\n",
    "#get the length of a list by using the len function\n",
    "apes = [\"Homo sapiens\", \"Pan troglodytes\", \"Gorilla gorilla\"]\n",
    "print(\"There are \" + str(len(apes)) + \" apes\")\n",
    "apes.append(\"Pan paniscus\")\n",
    "print(\"Now there are \" + str(len(apes)) + \" apes\")\n",
    "\n",
    "#concatenate two lists by using the plus symbol\n",
    "apes = [\"Homo sapiens\", \"Pan troglodytes\", \"Gorilla gorilla\"]\n",
    "monkeys = [\"Papio ursinus\", \"Macaca mulatta\"]\n",
    "primates = apes + monkeys\n",
    "print(str(len(apes)) + \" apes\")\n",
    "print(str(len(monkeys)) + \" monkeys\")\n",
    "print(str(len(primates)) + \" primates\")\n",
    "\n",
    "#to add elements from a list onto the end of an existing list, changing it in the process, we can use the extend method. extend behaves like append but takes a list as its argument rather than a single element\n",
    "apes = [\"Homo sapiens\", \"Pan troglodytes\", \"Gorilla gorilla\"]\n",
    "monkeys = [\"Papio ursinus\", \"Macaca mulatta\"]\n",
    "apes.append(monkeys)\n",
    "print(apes)\n",
    "\n",
    "#reverse and sort (alphabetically) work by changing the order of the elements in the list\n",
    "#If we want to print out a list to see how this works, we need to used str\n",
    "ranks = [\"kingdom\",\"phylum\", \"class\", \"order\", \"family\"]\n",
    "print(\"at the start : \" + str(ranks))\n",
    "ranks.reverse()\n",
    "print(\"after reversing : \" + str(ranks))\n",
    "ranks.sort()\n",
    "print(\"after sorting : \" + str(ranks))"
   ]
  },
  {
   "cell_type": "code",
   "execution_count": 13,
   "metadata": {},
   "outputs": [
    {
     "name": "stdout",
     "output_type": "stream",
     "text": [
      "Homo sapiensis an ape\n",
      "Pan troglodytesis an ape\n",
      "Gorilla gorillais an ape\n"
     ]
    }
   ],
   "source": [
    "#Writing a loop\n",
    "apes = [\"Homo sapiens\", \"Pan troglodytes\", \"Gorilla gorilla\"]\n",
    "for ape in apes:\n",
    "    print(ape+\"is an ape\")\n",
    "    "
   ]
  },
  {
   "cell_type": "code",
   "execution_count": 14,
   "metadata": {},
   "outputs": [
    {
     "name": "stdout",
     "output_type": "stream",
     "text": [
      "Homo sapiens is an ape. Its name starts with H\n",
      "Its name has 12 letters\n",
      "Pan troglodytes is an ape. Its name starts with P\n",
      "Its name has 15 letters\n",
      "Gorilla gorilla is an ape. Its name starts with G\n",
      "Its name has 15 letters\n"
     ]
    }
   ],
   "source": [
    "apes = [\"Homo sapiens\", \"Pan troglodytes\", \"Gorilla gorilla\"]\n",
    "for ape in apes:\n",
    "    name_length = len(ape)\n",
    "    first_letter = ape[0]\n",
    "    print(ape + \" is an ape. Its name starts with \" + first_letter)\n",
    "    print(\"Its name has \" + str(name_length) + \" letters\")"
   ]
  },
  {
   "cell_type": "code",
   "execution_count": 16,
   "metadata": {},
   "outputs": [
    {
     "name": "stdout",
     "output_type": "stream",
     "text": [
      "one character is m\n",
      "one character is a\n",
      "one character is r\n",
      "one character is t\n",
      "one character is i\n",
      "one character is n\n",
      "['melanogaster', 'simulans', 'yakuba', 'ananassae']\n"
     ]
    }
   ],
   "source": [
    "#Using a string as a list\n",
    "#we can use list index notation to get individual characters or substrings from inside a string\n",
    "#we also use loop notation to process a string as though it were a list\n",
    "#The process of repeating a set of instructions for each element of a list (or character in a string) \n",
    "#is called iteration\n",
    "name = \"martin\"\n",
    "for character in name:\n",
    "   print(\"one character is \" + character)\n",
    "\n",
    "#Splitting a string to make a list\n",
    "#split takes a single argument, called the delimiter, and splits the original string wherever it sees \n",
    "#the delimiter, producing a list\n",
    "\n",
    "names = \"melanogaster,simulans,yakuba,ananassae\"\n",
    "species = names.split(\",\")\n",
    "print(str(species))"
   ]
  },
  {
   "cell_type": "code",
   "execution_count": 17,
   "metadata": {},
   "outputs": [
    {
     "ename": "SyntaxError",
     "evalue": "unexpected EOF while parsing (<ipython-input-17-ddcd63be60c7>, line 12)",
     "output_type": "error",
     "traceback": [
      "\u001b[0;36m  File \u001b[0;32m\"<ipython-input-17-ddcd63be60c7>\"\u001b[0;36m, line \u001b[0;32m12\u001b[0m\n\u001b[0;31m    #input because Python thinks it's already at the end of the file\u001b[0m\n\u001b[0m                                                                    ^\u001b[0m\n\u001b[0;31mSyntaxError\u001b[0m\u001b[0;31m:\u001b[0m unexpected EOF while parsing\n"
     ]
    }
   ],
   "source": [
    "#Iterating over lines in a file\n",
    "#Just as a string can pretend to be a list for the purposes of looping, a file object can do the same\n",
    "#when we treat a file as a list, each line becomes an individual element\n",
    "file = open(\"some_input.txt\")\n",
    "for line in file:\n",
    "    # do something with the line\n",
    "    \n",
    "#when you're writing a program that reads data from a file, it's best to use either the read method \n",
    "#(to store the entire contents in a variable) or the loop method (to deal with each line separately)\n",
    "#Python keeps track of its position in each file, so if you read the contents of a file object using\n",
    "#the read method, and then later try to process it one line at a time with a loop, you won't get any\n",
    "#input because Python thinks it's already at the end of the file"
   ]
  },
  {
   "cell_type": "code",
   "execution_count": 21,
   "metadata": {},
   "outputs": [
    {
     "name": "stdout",
     "output_type": "stream",
     "text": [
      "0\n",
      "1\n",
      "2\n",
      "3\n",
      "4\n",
      "5\n",
      "3\n",
      "4\n",
      "5\n",
      "6\n",
      "7\n",
      "2\n",
      "6\n",
      "10\n"
     ]
    }
   ],
   "source": [
    "#Looping with ranges\n",
    "#range is a built-in Python function that generates lists of numbers for us to loop over\n",
    "#With a single argument, range will count up from zero to that number, excluding the number itself\n",
    "for number in range(6):\n",
    "    print(number)\n",
    "    \n",
    "#With two numbers, range will count up from the first number (inclusive1) to the second (exclusive)\n",
    "for number in range(3, 8):\n",
    "    print(number)\n",
    "    \n",
    "#With three numbers, range will count up from the first to the second with the step size given by the third:\n",
    "for number in range(2, 14, 4):\n",
    "    print(number)"
   ]
  },
  {
   "cell_type": "code",
   "execution_count": null,
   "metadata": {},
   "outputs": [],
   "source": []
  }
 ],
 "metadata": {
  "kernelspec": {
   "display_name": "Python 3",
   "language": "python",
   "name": "python3"
  },
  "language_info": {
   "codemirror_mode": {
    "name": "ipython",
    "version": 3
   },
   "file_extension": ".py",
   "mimetype": "text/x-python",
   "name": "python",
   "nbconvert_exporter": "python",
   "pygments_lexer": "ipython3",
   "version": "3.7.2"
  }
 },
 "nbformat": 4,
 "nbformat_minor": 2
}
